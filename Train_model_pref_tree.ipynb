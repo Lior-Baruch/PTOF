{
 "cells": [
  {
   "cell_type": "markdown",
   "metadata": {},
   "source": [
    "## Installs and imports"
   ]
  },
  {
   "cell_type": "code",
   "execution_count": 1,
   "metadata": {},
   "outputs": [],
   "source": [
    "# %pip install -q -U transformers trl peft bitsandbytes numpy==1.26.4 pandas==2.2.2 torch==2.4.0 datasets wandb\n",
    "# %pip install -q -U transformers==4.44.0 trl==0.9.6 peft==0.12.0 bitsandbytes numpy==1.26.4 pandas==2.2.2 torch==2.4.0 datasets wandb"
   ]
  },
  {
   "cell_type": "code",
   "execution_count": 2,
   "metadata": {},
   "outputs": [],
   "source": [
    "# %pip install -qqq flash-attn"
   ]
  },
  {
   "cell_type": "code",
   "execution_count": 3,
   "metadata": {},
   "outputs": [
    {
     "name": "stdout",
     "output_type": "stream",
     "text": [
      "Using device: cuda\n",
      "cuda version: 11.8\n"
     ]
    }
   ],
   "source": [
    "import textwrap\n",
    "import os\n",
    "import torch\n",
    "from transformers import AutoTokenizer, AutoModelForCausalLM, BitsAndBytesConfig\n",
    "from trl import DPOTrainer, DPOConfig\n",
    "from peft import LoraConfig, prepare_model_for_kbit_training, PeftModel\n",
    "from datasets import Dataset\n",
    "import pandas as pd\n",
    "import numpy as np\n",
    "import ast\n",
    "\n",
    "\n",
    "device = torch.device(\"cuda\" if torch.cuda.is_available() else \"cpu\")\n",
    "print(f\"Using device: {device}\")\n",
    "print(\"cuda version:\", torch.version.cuda)\n",
    "\n",
    "# Define SEED for reproducibility\n",
    "SEED = 42\n",
    "torch.manual_seed(SEED)\n",
    "np.random.seed(SEED)"
   ]
  },
  {
   "cell_type": "markdown",
   "metadata": {},
   "source": [
    "## Helper and device configuration"
   ]
  },
  {
   "cell_type": "code",
   "execution_count": 4,
   "metadata": {},
   "outputs": [
    {
     "name": "stdout",
     "output_type": "stream",
     "text": [
      "Using flash_attention_2\n"
     ]
    }
   ],
   "source": [
    "if torch.cuda.get_device_capability()[0] >= 8:\n",
    "    attn_implementation = \"flash_attention_2\"\n",
    "    torch_dtype = torch.bfloat16\n",
    "    print(\"Using flash_attention_2\")\n",
    "else:\n",
    "    attn_implementation = \"eager\"\n",
    "    torch_dtype = torch.float16\n",
    "    print(\"Using eager\")\n"
   ]
  },
  {
   "cell_type": "code",
   "execution_count": 5,
   "metadata": {},
   "outputs": [],
   "source": [
    "def print_trainable_params(model):\n",
    "    total_params = 0\n",
    "    trainable_params  = 0\n",
    "    for name, param in model.named_parameters():\n",
    "        total_params += param.numel()\n",
    "        if param.requires_grad:\n",
    "            trainable_params += param.numel()\n",
    "    print(\n",
    "        f\"trainable params: {trainable_params} || total params: {total_params} || trainable%: {100 * trainable_params / total_params}\"\n",
    "    )"
   ]
  },
  {
   "cell_type": "markdown",
   "metadata": {},
   "source": [
    "## Load the therapist model and tokenizer\n"
   ]
  },
  {
   "cell_type": "code",
   "execution_count": 6,
   "metadata": {},
   "outputs": [
    {
     "data": {
      "application/vnd.jupyter.widget-view+json": {
       "model_id": "1cb0240c146b4a8fb97f73ed4337824f",
       "version_major": 2,
       "version_minor": 0
      },
      "text/plain": [
       "VBox(children=(HTML(value='<center> <img\\nsrc=https://huggingface.co/front/assets/huggingface_logo-noborder.sv…"
      ]
     },
     "metadata": {},
     "output_type": "display_data"
    }
   ],
   "source": [
    "from huggingface_hub import notebook_login\n",
    "\n",
    "# log in to the Hugging Face hub (required for private datasets/models)\n",
    "notebook_login()"
   ]
  },
  {
   "cell_type": "code",
   "execution_count": 8,
   "metadata": {},
   "outputs": [
    {
     "data": {
      "application/vnd.jupyter.widget-view+json": {
       "model_id": "2785b88a815549c59158b9f004bd03c9",
       "version_major": 2,
       "version_minor": 0
      },
      "text/plain": [
       "Loading checkpoint shards:   0%|          | 0/2 [00:00<?, ?it/s]"
      ]
     },
     "metadata": {},
     "output_type": "display_data"
    }
   ],
   "source": [
    "# Load the 7b llama-2 model\n",
    "therapist_model_id = \"meta-llama/Llama-2-7b-hf\"\n",
    "\n",
    "# Define LORA config and quantization config \n",
    "##################################################\n",
    "lora_config = LoraConfig(\n",
    "    r=16, # 16, 256\n",
    "    lora_alpha=16, # 16, 128\n",
    "    lora_dropout=0.05,\n",
    "    target_modules=['k_proj', 'q_proj', 'v_proj', 'o_proj', 'up_proj', 'down_proj', 'gate_proj'],\n",
    "    bias=\"none\",\n",
    "    task_type=\"CAUSAL_LM\",\n",
    ")\n",
    "\n",
    "quantization_config = BitsAndBytesConfig(\n",
    "    load_in_4bit=True,\n",
    "    bnb_4bit_compute_dtype=torch_dtype,\n",
    "    bnb_4bit_quant_type=\"nf4\"\n",
    ")\n",
    "##################################################\n",
    "\n",
    "\n",
    "# Load Tokenizer \n",
    "##################################################\n",
    "tokenizer = AutoTokenizer.from_pretrained(therapist_model_id, trust_remote_code=True, device_map=\"auto\")\n",
    "# set the chat template to include <|im_start|> and <|im_end|> tokens\n",
    "tokenizer.chat_template = \"{% if not add_generation_prompt is defined %}{% set add_generation_prompt = false %}{% endif %}{% for message in messages %}{{'<|im_start|>' + message['role'] + '\\n' + message['content'] + '<|im_end|>' + '\\n'}}{% endfor %}{% if add_generation_prompt %}{{ '<|im_start|>assistant\\n' }}{% endif %}\"\n",
    "\n",
    "# # add the <|im_start|> and <|im_end|> tokens to the tokenizer vocab and set them as the bos and eos tokens\n",
    "# tokenizer.add_tokens(['<|im_start|>', '<|im_end|>'])\n",
    "# tokenizer.bos_token = '<|im_start|>'\n",
    "# tokenizer.eos_token = '<|im_end|>'\n",
    "\n",
    "# set the pad token to the eos token to avoid issues with padding\n",
    "tokenizer.pad_token = tokenizer.eos_token\n",
    "tokenizer.padding_side = \"right\"  # Fix weird overflow issue with fp16 training\n",
    "##################################################\n",
    "\n",
    "\n",
    "# Load model, quantized\n",
    "##################################################\n",
    "base_model = AutoModelForCausalLM.from_pretrained(\n",
    "    therapist_model_id,\n",
    "    quantization_config=quantization_config,\n",
    "    trust_remote_code=True,\n",
    "    device_map=\"auto\",\n",
    "    attn_implementation=attn_implementation\n",
    ")\n",
    "\n",
    "base_model.config.use_cache = False\n",
    "# base_model.resize_token_embeddings(len(tokenizer)) # Resize model embeddings to include new tokens\n",
    "# base_model.config.eos_token_id = tokenizer.eos_token_id # Set EOS token ID in config to correctly attend to EOS tokens\n",
    "\n",
    "##################################################\n",
    "\n",
    "\n"
   ]
  },
  {
   "cell_type": "code",
   "execution_count": 9,
   "metadata": {},
   "outputs": [
    {
     "data": {
      "application/vnd.jupyter.widget-view+json": {
       "model_id": "066248615b1e40a0b25d10ec2bd895c8",
       "version_major": 2,
       "version_minor": 0
      },
      "text/plain": [
       "adapter_config.json:   0%|          | 0.00/727 [00:00<?, ?B/s]"
      ]
     },
     "metadata": {},
     "output_type": "display_data"
    },
    {
     "name": "stderr",
     "output_type": "stream",
     "text": [
      "c:\\Users\\baruc\\anaconda3\\Lib\\site-packages\\huggingface_hub\\file_download.py:159: UserWarning: `huggingface_hub` cache-system uses symlinks by default to efficiently store duplicated files but your machine does not support them in C:\\Users\\baruc\\.cache\\huggingface\\hub\\models--LBK95--Llama-2-7b-hf-DPO-LookAhead-0_TTree1.4_TT0.9_TP0.7_TE0.2_V1. Caching files will still work but in a degraded version that might require more space on your disk. This warning can be disabled by setting the `HF_HUB_DISABLE_SYMLINKS_WARNING` environment variable. For more details, see https://huggingface.co/docs/huggingface_hub/how-to-cache#limitations.\n",
      "To support symlinks on Windows, you either need to activate Developer Mode or to run Python as an administrator. In order to see activate developer mode, see this article: https://docs.microsoft.com/en-us/windows/apps/get-started/enable-your-device-for-development\n",
      "  warnings.warn(message)\n"
     ]
    },
    {
     "data": {
      "application/vnd.jupyter.widget-view+json": {
       "model_id": "dbc000ffd21d4921aad2e64d90e57b81",
       "version_major": 2,
       "version_minor": 0
      },
      "text/plain": [
       "adapter_model.safetensors:   0%|          | 0.00/160M [00:00<?, ?B/s]"
      ]
     },
     "metadata": {},
     "output_type": "display_data"
    },
    {
     "name": "stderr",
     "output_type": "stream",
     "text": [
      "c:\\Users\\baruc\\anaconda3\\Lib\\site-packages\\peft\\tuners\\lora\\bnb.py:336: UserWarning: Merge lora module to 4-bit linear may get different generations due to rounding errors.\n",
      "  warnings.warn(\n"
     ]
    },
    {
     "name": "stdout",
     "output_type": "stream",
     "text": [
      "Model loaded with first adapter\n",
      "Adapter ID:  LBK95/Llama-2-7b-hf-DPO-LookAhead-0_TTree1.4_TT0.9_TP0.7_TE0.2_V1\n",
      "trainable params: 0 || total params: 3500412928 || trainable%: 0.0\n"
     ]
    }
   ],
   "source": [
    "############################################ Old Adapters ############################################\n",
    "# # Look-Ahead=0 PartialEval\n",
    "# therapist_first_adapter_id = \"LBK95/Llama-2-7b-hf-DPO-PartialEval_ET0.1_MT1.2_1-5_V.1.0_Filtered0.1_V1.0\"\n",
    "# therapist_second_adapter_id = \"LBK95/Llama-2-7b-hf-DPO-PartialEval_ET0.1_MT1.2_1-5_V.1.0_Filtered0.1_V2.0\"\n",
    "# therapist_third_adapter_id = \"LBK95/Llama-2-7b-hf-DPO-PartialEval_ET0.1_MT1.2_1-5_V.1.0_Filtered0.1_V3.0\"\n",
    "\n",
    "# # Look-Ahead=5 FullEval\n",
    "# therapist_first_adapter_id = \"LBK95/Llama-2-7b-hf-DPO-FullEval_LookAhead5_TTree1.2_TT0.7_TP0.7_TE0.1_Filtered0.1_V1.0\"\n",
    "# therapist_second_adapter_id = \"LBK95/Llama-2-7b-hf-DPO-FullEval_LookAhead5_TTree1.2_TT0.7_TP0.7_TE0.1_Filtered0.1_V2.0\"\n",
    "# therapist_third_adapter_id = \"LBK95/Llama-2-7b-hf-DPO-FullEval_LookAhead5_TTree1.2_TT0.7_TP0.7_TE0.1_Filtered0.1_V3.0\"\n",
    "\n",
    "# # Look-Ahead=3 FullEval\n",
    "# therapist_first_adapter_id = \"LBK95/Llama-2-7b-hf-DPO-LookAhead3_FullEval_TTree1.4_TLoop0.7_TEval0.2_Filter0.2_V1.0\"\n",
    "# therapist_second_adapter_id = \"LBK95/Llama-2-7b-hf-DPO-LookAhead3_FullEval_TTree1.4_TLoop0.7_TEval0.2_Filter0.2_V2.0\"\n",
    "# therapist_third_adapter_id = \"LBK95/Llama-2-7b-hf-DPO-LookAhead3_FullEval_TTree1.4_TLoop0.7_TEval0.2_Filter0.2_V3.0\"\n",
    "\n",
    "# ############################################ New Adapters ############################################\n",
    "\n",
    "lookAhead = 0\n",
    "therapist_first_adapter_id = f\"LBK95/Llama-2-7b-hf-DPO-LookAhead-{lookAhead}_TTree1.4_TT0.9_TP0.7_TE0.2_V1\"\n",
    "# therapist_second_adapter_id = f\"LBK95/Llama-2-7b-hf-DPO-LookAhead-{lookAhead}_TTree1.4_TT0.9_TP0.7_TE0.2_V2\"\n",
    "# therapist_third_adapter_id = f\"LBK95/Llama-2-7b-hf-DPO-LookAhead-{lookAhead}_TTree1.4_TT0.9_TP0.7_TE0.2_V3\"\n",
    "\n",
    "\n",
    "# ############################################ New Adapters ############################################\n",
    "# add first adapter\n",
    "base_model = PeftModel.from_pretrained(base_model, therapist_first_adapter_id)\n",
    "# merge first adapter and unload\n",
    "base_model = base_model.merge_and_unload()\n",
    "print(\"Model loaded with first adapter\")\n",
    "print(\"Adapter ID: \", therapist_first_adapter_id)\n",
    "\n",
    "# # add second adapter\n",
    "# base_model = PeftModel.from_pretrained(base_model, therapist_second_adapter_id)\n",
    "# # merge second adapter and unload\n",
    "# base_model = base_model.merge_and_unload()\n",
    "# print(\"Model loaded with second adapter\")\n",
    "# print(\"Adapter ID: \", therapist_second_adapter_id)\n",
    "\n",
    "# # add third adapter\n",
    "# base_model = PeftModel.from_pretrained(base_model, therapist_third_adapter_id)\n",
    "# # merge third adapter and unload\n",
    "# base_model = base_model.merge_and_unload()\n",
    "# print(\"Model loaded with third adapter\")\n",
    "# print(\"Adapter ID: \", therapist_third_adapter_id)\n",
    "############################################ Add Adapters ############################################\n",
    "\n",
    "\n",
    "# Prepare model for KBIT training\n",
    "base_model = prepare_model_for_kbit_training(base_model) # Prepare model for KBIT training\n",
    "\n",
    "print_trainable_params(base_model)"
   ]
  },
  {
   "cell_type": "markdown",
   "metadata": {},
   "source": [
    "## Load the data and preprocess it"
   ]
  },
  {
   "cell_type": "code",
   "execution_count": 10,
   "metadata": {},
   "outputs": [],
   "source": [
    "# Method to Convert string representations of lists to actual lists\n",
    "def convert_string_to_list(df):\n",
    "    df[\"messages\"] = df[\"messages\"].apply(ast.literal_eval)\n",
    "    df[\"conversation\"] = df[\"conversation\"].apply(ast.literal_eval)\n",
    "    df[\"winning_scores_list\"] = df[\"winning_scores_list\"].apply(ast.literal_eval)\n",
    "    df[\"losing_scores_list\"] = df[\"losing_scores_list\"].apply(ast.literal_eval)\n",
    "    df[\"winning_scores_avg_list\"] = df[\"winning_scores_avg_list\"].apply(ast.literal_eval)\n",
    "    df[\"losing_scores_avg_list\"] = df[\"losing_scores_avg_list\"].apply(ast.literal_eval)\n",
    "    return df\n",
    "\n",
    "# Method to load the preference trees\n",
    "def load_preference_trees(data_path, start_index=0, end_index=96):\n",
    "    preference_trees_list = []\n",
    "    for i in range(start_index, end_index):\n",
    "        with open(os.path.join(data_path, f\"pref_data_{i}.csv\"), \"r\") as f:\n",
    "            pref_tree = pd.read_csv(f)\n",
    "            pref_tree[\"tree_index\"] = i\n",
    "            preference_trees_list.append(pref_tree)\n",
    "    # Concatenate all the preference trees into a single dataframe\n",
    "    preference_trees_df = pd.concat(preference_trees_list, ignore_index=True)\n",
    "    num_of_rows_before = preference_trees_df.shape[0]\n",
    "    #get only rows with NaN values\n",
    "    preference_trees_NaN = preference_trees_df[preference_trees_df.isna().any(axis=1)]\n",
    "    # Drop rows with missing values\n",
    "    preference_trees_df = preference_trees_df.dropna()\n",
    "    num_of_rows_after = preference_trees_df.shape[0]\n",
    "    num_rows_removed = num_of_rows_before - num_of_rows_after\n",
    "    # Convert string representations of lists to actual lists\n",
    "    preference_trees_df = convert_string_to_list(preference_trees_df)\n",
    "    return preference_trees_df, preference_trees_list, num_rows_removed, preference_trees_NaN\n",
    "\n",
    "# Method to add prompts column to the dataframe (aplly chat tamplet to the messages)\n",
    "def add_prompts_column(df, tokenizer):\n",
    "    prompt_list = [tokenizer.apply_chat_template(message, add_generation_prompt=True, tokenize=False) for message in df[\"messages\"]]\n",
    "    df[\"prompt\"] = prompt_list\n",
    "    return df\n",
    "\n",
    "# Method to add prompt length column to the dataframe\n",
    "def add_prompt_length_column(df, tokenizer):\n",
    "    prompt_length_list = [len(tokenizer.encode(prompt)) for prompt in df[\"prompt\"]]\n",
    "    df[\"prompt_length\"] = prompt_length_list\n",
    "    return df\n",
    "\n",
    "# Method to add conversation length (number of turns) column to the dataframe\n",
    "def add_conversation_length_column(df):\n",
    "    conversation_length_list = [len(conversation) for conversation in df[\"conversation\"]]\n",
    "    df[\"conversation_length\"] = conversation_length_list\n",
    "    return df\n",
    "\n",
    "# Method to add eos token to the end of the responses\n",
    "def add_end_token_to_responses(df, tokenizer):\n",
    "    df[\"winning_response\"] = [response + tokenizer.eos_token for response in df[\"winning_response\"]]\n",
    "    df[\"losing_response\"] = [response + tokenizer.eos_token for response in df[\"losing_response\"]]\n",
    "    return df\n",
    "\n",
    "# Method to remove rows where the winning response is the same as the losing response\n",
    "def remove_duplicate_responses(df):\n",
    "    df_without_duplicates = df[df[\"winning_response\"] != df[\"losing_response\"]]\n",
    "    df_with_duplicates = df[df[\"winning_response\"] == df[\"losing_response\"]]\n",
    "    return df_without_duplicates, df_with_duplicates\n",
    "\n",
    "# Method to create the dpo_prefernce_data (Dict with keys: \"prompt\", \"chosen\", \"rejected\")\n",
    "def create_preference_data(preference_trees_df, score_threshold=0.2,\n",
    "                           prompt_column_name=\"prompt\", winning_response_column_name=\"winning_response\", losing_response_column_name=\"losing_response\", \n",
    "                           winning_score_column_name=\"winning_score_final\", losing_score_column_name=\"losing_score_final\", min_score=0.0, max_score=5.0):\n",
    "    # update the number of rows before dropping rows not within the min_score and max_score\n",
    "    num_of_rows_before = preference_trees_df.shape[0]\n",
    "    # drop rows where the winning score or losing score is less than min_score or greater than max_score\n",
    "    preference_trees_df = preference_trees_df[(preference_trees_df[winning_score_column_name] >= min_score) & (preference_trees_df[winning_score_column_name] <= max_score)]\n",
    "    preference_trees_df = preference_trees_df[(preference_trees_df[losing_score_column_name] >= min_score) & (preference_trees_df[losing_score_column_name] <= max_score)]\n",
    "    # print the number of rows before and after dropping rows not within the min_score and max_score\n",
    "    print(f\"Number of rows in total: {num_of_rows_before}\")\n",
    "    print(f\"Number of rows removed due to min_score or max_score: {num_of_rows_before - preference_trees_df.shape[0]}\")\n",
    "    print(f\"Number of rows remaining: {preference_trees_df.shape[0]}\")\n",
    "\n",
    "    # update the number of rows before thresholding\n",
    "    num_of_rows_before = preference_trees_df.shape[0] \n",
    "    # drop rows where the winning score < losing score + threshold\n",
    "    preference_data = preference_trees_df[preference_trees_df[winning_score_column_name] >= preference_trees_df[losing_score_column_name] + score_threshold]\n",
    "    num_of_rows_after = preference_data.shape[0]\n",
    "    # print the number of rows before and after thresholding\n",
    "    print(f\"Number of rows in total: {num_of_rows_before}\")\n",
    "    print(f\"Number of rows removed due to threshold: {num_of_rows_before - num_of_rows_after}\")\n",
    "    print(f\"Number of rows remaining: {num_of_rows_after}\")\n",
    "\n",
    "    # Create the dpo_dataset_dict (Preference Data) (Dict with keys: \"prompt\", \"chosen\", \"rejected\")\n",
    "    dpo_dataset_dict = {\n",
    "    \"prompt\": preference_data[prompt_column_name].tolist(),\n",
    "    \"chosen\": preference_data[winning_response_column_name].tolist(),\n",
    "    \"rejected\": preference_data[losing_response_column_name].tolist(),\n",
    "    }\n",
    "    # Create the dpo_dataset from the dpo_dataset_dict\n",
    "    dpo_dataset = Dataset.from_dict(dpo_dataset_dict)\n",
    "    \n",
    "    return dpo_dataset, preference_data\n",
    "\n",
    "# Method to print the conversation with word wrapping\n",
    "def print_conversation(conversation, max_width=80):\n",
    "    \"\"\"\n",
    "    Print the conversation with word wrapping.\n",
    "\n",
    "    Parameters:\n",
    "        - conversation: A list of strings representing the conversation. (Therapist and Patient messages alternately, starting with the Therapist)\n",
    "        - max_width: The maximum width for word wrapping. Default is 80.\n",
    "    \"\"\"\n",
    "    for i, message in enumerate(conversation):\n",
    "        role = \"[THERAPIST]\" if i % 2 == 0 else \"[PATIENT]\"\n",
    "        print(f\"{role}: \\n{textwrap.fill(message, width=max_width)} \\n\")\n",
    "\n",
    "# Method to get only the final conversations for each tree index\n",
    "def get_df_for_final_conversations_for_each_tree_index(df):\n",
    "    final_conversations_list = []\n",
    "    for tree_index in df[\"tree_index\"].unique():\n",
    "        final_conversations = df[(df[\"tree_index\"] == tree_index) & (df[\"conversation_length\"] == df[df[\"tree_index\"] == tree_index][\"conversation_length\"].max())]\n",
    "        final_conversations_list.append(final_conversations)\n",
    "    final_conversations_df = pd.concat(final_conversations_list, ignore_index=True)\n",
    "    return final_conversations_df"
   ]
  },
  {
   "cell_type": "code",
   "execution_count": 12,
   "metadata": {},
   "outputs": [
    {
     "name": "stdout",
     "output_type": "stream",
     "text": [
      "Number of rows removed: 0\n"
     ]
    },
    {
     "data": {
      "text/plain": [
       "Index(['conversation', 'messages', 'winning_response', 'losing_response',\n",
       "       'winning_scores_list', 'losing_scores_list', 'winning_scores_avg_list',\n",
       "       'losing_scores_avg_list', 'winning_score_final', 'losing_score_final',\n",
       "       'winning_conversation', 'losing_conversation', 'tree_index', 'prompt',\n",
       "       'prompt_length', 'conversation_length'],\n",
       "      dtype='object')"
      ]
     },
     "metadata": {},
     "output_type": "display_data"
    },
    {
     "data": {
      "text/html": [
       "<div>\n",
       "<style scoped>\n",
       "    .dataframe tbody tr th:only-of-type {\n",
       "        vertical-align: middle;\n",
       "    }\n",
       "\n",
       "    .dataframe tbody tr th {\n",
       "        vertical-align: top;\n",
       "    }\n",
       "\n",
       "    .dataframe thead th {\n",
       "        text-align: right;\n",
       "    }\n",
       "</style>\n",
       "<table border=\"1\" class=\"dataframe\">\n",
       "  <thead>\n",
       "    <tr style=\"text-align: right;\">\n",
       "      <th></th>\n",
       "      <th>conversation</th>\n",
       "      <th>messages</th>\n",
       "      <th>winning_response</th>\n",
       "      <th>losing_response</th>\n",
       "      <th>winning_scores_list</th>\n",
       "      <th>losing_scores_list</th>\n",
       "      <th>winning_scores_avg_list</th>\n",
       "      <th>losing_scores_avg_list</th>\n",
       "      <th>winning_score_final</th>\n",
       "      <th>losing_score_final</th>\n",
       "      <th>winning_conversation</th>\n",
       "      <th>losing_conversation</th>\n",
       "      <th>tree_index</th>\n",
       "      <th>prompt</th>\n",
       "      <th>prompt_length</th>\n",
       "      <th>conversation_length</th>\n",
       "    </tr>\n",
       "  </thead>\n",
       "  <tbody>\n",
       "    <tr>\n",
       "      <th>0</th>\n",
       "      <td>[My name is David, and I'm a counselor, can yo...</td>\n",
       "      <td>[{'role': 'system', 'content': 'You are a moti...</td>\n",
       "      <td>Great, James! I am so glad to hear that you ha...</td>\n",
       "      <td>James, let me help you to better understand th...</td>\n",
       "      <td>[[3, 2, 3, 2, 1], [3, 2, 2, 2, 2, 2, 2, 2, 1, ...</td>\n",
       "      <td>[[2, 2, 3, 1, 1], [3, 2, 1, 2, 2, 2, 2, 2, 2, ...</td>\n",
       "      <td>[2.2, 2.0588235294117645]</td>\n",
       "      <td>[1.8, 1.8823529411764706]</td>\n",
       "      <td>2.129412</td>\n",
       "      <td>1.841176</td>\n",
       "      <td>[\"My name is David, and I'm a counselor, can y...</td>\n",
       "      <td>[\"My name is David, and I'm a counselor, can y...</td>\n",
       "      <td>0</td>\n",
       "      <td>&lt;|im_start|&gt;system\\nYou are a motivational int...</td>\n",
       "      <td>318</td>\n",
       "      <td>2</td>\n",
       "    </tr>\n",
       "    <tr>\n",
       "      <th>1</th>\n",
       "      <td>[My name is David, and I'm a counselor, can yo...</td>\n",
       "      <td>[{'role': 'system', 'content': 'You are a moti...</td>\n",
       "      <td>Excellent, I appreciate that. It's great that ...</td>\n",
       "      <td>Thank you. I'll keep that information in mind ...</td>\n",
       "      <td>[[3, 2, 3, 2, 2], [4, 3, 3, 3, 4, 3, 4, 4, 3, ...</td>\n",
       "      <td>[[3, 2, 4, 2, 1], [4, 3, 2, 2, 3, 2, 3, 3, 3, ...</td>\n",
       "      <td>[2.4, 3.4705882352941178]</td>\n",
       "      <td>[2.4, 2.6470588235294117]</td>\n",
       "      <td>2.935294</td>\n",
       "      <td>2.523529</td>\n",
       "      <td>[\"My name is David, and I'm a counselor, can y...</td>\n",
       "      <td>[\"My name is David, and I'm a counselor, can y...</td>\n",
       "      <td>0</td>\n",
       "      <td>&lt;|im_start|&gt;system\\nYou are a motivational int...</td>\n",
       "      <td>477</td>\n",
       "      <td>4</td>\n",
       "    </tr>\n",
       "    <tr>\n",
       "      <th>2</th>\n",
       "      <td>[My name is David, and I'm a counselor, can yo...</td>\n",
       "      <td>[{'role': 'system', 'content': 'You are a moti...</td>\n",
       "      <td>Great, it sounds like that's a goal you can ma...</td>\n",
       "      <td>James! Thank you. You are going to face hard t...</td>\n",
       "      <td>[[4, 3, 4, 3, 3], [4, 3, 4, 3, 4, 3, 4, 3, 4, ...</td>\n",
       "      <td>[[4, 3, 4, 3, 2], [4, 3, 4, 3, 4, 3, 3, 3, 3, ...</td>\n",
       "      <td>[3.4, 3.588235294117647]</td>\n",
       "      <td>[3.2, 3.3529411764705883]</td>\n",
       "      <td>3.494118</td>\n",
       "      <td>3.276471</td>\n",
       "      <td>[\"My name is David, and I'm a counselor, can y...</td>\n",
       "      <td>[\"My name is David, and I'm a counselor, can y...</td>\n",
       "      <td>0</td>\n",
       "      <td>&lt;|im_start|&gt;system\\nYou are a motivational int...</td>\n",
       "      <td>684</td>\n",
       "      <td>6</td>\n",
       "    </tr>\n",
       "    <tr>\n",
       "      <th>3</th>\n",
       "      <td>[My name is David, and I'm a counselor, can yo...</td>\n",
       "      <td>[{'role': 'system', 'content': 'You are a moti...</td>\n",
       "      <td>Awesome! Great choice! Now let's take a look a...</td>\n",
       "      <td>Great, this sounds like a great start to our c...</td>\n",
       "      <td>[[4, 4, 5, 4, 4], [4, 3, 3, 3, 4, 3, 3, 3, 3, ...</td>\n",
       "      <td>[[4, 3, 4, 3, 2], [4, 3, 3, 3, 4, 3, 4, 4, 3, ...</td>\n",
       "      <td>[4.2, 3.2941176470588234]</td>\n",
       "      <td>[3.2, 3.4705882352941178]</td>\n",
       "      <td>3.747059</td>\n",
       "      <td>3.335294</td>\n",
       "      <td>[\"My name is David, and I'm a counselor, can y...</td>\n",
       "      <td>[\"My name is David, and I'm a counselor, can y...</td>\n",
       "      <td>0</td>\n",
       "      <td>&lt;|im_start|&gt;system\\nYou are a motivational int...</td>\n",
       "      <td>767</td>\n",
       "      <td>8</td>\n",
       "    </tr>\n",
       "    <tr>\n",
       "      <th>4</th>\n",
       "      <td>[My name is David, and I'm a counselor, can yo...</td>\n",
       "      <td>[{'role': 'system', 'content': 'You are a moti...</td>\n",
       "      <td>Great! You mentioned before that you started s...</td>\n",
       "      <td>Outstanding, it's fantastic, it's great to hea...</td>\n",
       "      <td>[[4, 4, 5, 4, 4], [4, 3, 4, 3, 4, 3, 4, 3, 3, ...</td>\n",
       "      <td>[[4, 3, 4, 3, 3], [4, 3, 4, 3, 4, 3, 3, 3, 4, ...</td>\n",
       "      <td>[4.2, 3.5294117647058822]</td>\n",
       "      <td>[3.4, 3.588235294117647]</td>\n",
       "      <td>3.864706</td>\n",
       "      <td>3.494118</td>\n",
       "      <td>[\"My name is David, and I'm a counselor, can y...</td>\n",
       "      <td>[\"My name is David, and I'm a counselor, can y...</td>\n",
       "      <td>0</td>\n",
       "      <td>&lt;|im_start|&gt;system\\nYou are a motivational int...</td>\n",
       "      <td>860</td>\n",
       "      <td>10</td>\n",
       "    </tr>\n",
       "  </tbody>\n",
       "</table>\n",
       "</div>"
      ],
      "text/plain": [
       "                                        conversation  \\\n",
       "0  [My name is David, and I'm a counselor, can yo...   \n",
       "1  [My name is David, and I'm a counselor, can yo...   \n",
       "2  [My name is David, and I'm a counselor, can yo...   \n",
       "3  [My name is David, and I'm a counselor, can yo...   \n",
       "4  [My name is David, and I'm a counselor, can yo...   \n",
       "\n",
       "                                            messages  \\\n",
       "0  [{'role': 'system', 'content': 'You are a moti...   \n",
       "1  [{'role': 'system', 'content': 'You are a moti...   \n",
       "2  [{'role': 'system', 'content': 'You are a moti...   \n",
       "3  [{'role': 'system', 'content': 'You are a moti...   \n",
       "4  [{'role': 'system', 'content': 'You are a moti...   \n",
       "\n",
       "                                    winning_response  \\\n",
       "0  Great, James! I am so glad to hear that you ha...   \n",
       "1  Excellent, I appreciate that. It's great that ...   \n",
       "2  Great, it sounds like that's a goal you can ma...   \n",
       "3  Awesome! Great choice! Now let's take a look a...   \n",
       "4  Great! You mentioned before that you started s...   \n",
       "\n",
       "                                     losing_response  \\\n",
       "0  James, let me help you to better understand th...   \n",
       "1  Thank you. I'll keep that information in mind ...   \n",
       "2  James! Thank you. You are going to face hard t...   \n",
       "3  Great, this sounds like a great start to our c...   \n",
       "4  Outstanding, it's fantastic, it's great to hea...   \n",
       "\n",
       "                                 winning_scores_list  \\\n",
       "0  [[3, 2, 3, 2, 1], [3, 2, 2, 2, 2, 2, 2, 2, 1, ...   \n",
       "1  [[3, 2, 3, 2, 2], [4, 3, 3, 3, 4, 3, 4, 4, 3, ...   \n",
       "2  [[4, 3, 4, 3, 3], [4, 3, 4, 3, 4, 3, 4, 3, 4, ...   \n",
       "3  [[4, 4, 5, 4, 4], [4, 3, 3, 3, 4, 3, 3, 3, 3, ...   \n",
       "4  [[4, 4, 5, 4, 4], [4, 3, 4, 3, 4, 3, 4, 3, 3, ...   \n",
       "\n",
       "                                  losing_scores_list  \\\n",
       "0  [[2, 2, 3, 1, 1], [3, 2, 1, 2, 2, 2, 2, 2, 2, ...   \n",
       "1  [[3, 2, 4, 2, 1], [4, 3, 2, 2, 3, 2, 3, 3, 3, ...   \n",
       "2  [[4, 3, 4, 3, 2], [4, 3, 4, 3, 4, 3, 3, 3, 3, ...   \n",
       "3  [[4, 3, 4, 3, 2], [4, 3, 3, 3, 4, 3, 4, 4, 3, ...   \n",
       "4  [[4, 3, 4, 3, 3], [4, 3, 4, 3, 4, 3, 3, 3, 4, ...   \n",
       "\n",
       "     winning_scores_avg_list     losing_scores_avg_list  winning_score_final  \\\n",
       "0  [2.2, 2.0588235294117645]  [1.8, 1.8823529411764706]             2.129412   \n",
       "1  [2.4, 3.4705882352941178]  [2.4, 2.6470588235294117]             2.935294   \n",
       "2   [3.4, 3.588235294117647]  [3.2, 3.3529411764705883]             3.494118   \n",
       "3  [4.2, 3.2941176470588234]  [3.2, 3.4705882352941178]             3.747059   \n",
       "4  [4.2, 3.5294117647058822]   [3.4, 3.588235294117647]             3.864706   \n",
       "\n",
       "   losing_score_final                               winning_conversation  \\\n",
       "0            1.841176  [\"My name is David, and I'm a counselor, can y...   \n",
       "1            2.523529  [\"My name is David, and I'm a counselor, can y...   \n",
       "2            3.276471  [\"My name is David, and I'm a counselor, can y...   \n",
       "3            3.335294  [\"My name is David, and I'm a counselor, can y...   \n",
       "4            3.494118  [\"My name is David, and I'm a counselor, can y...   \n",
       "\n",
       "                                 losing_conversation  tree_index  \\\n",
       "0  [\"My name is David, and I'm a counselor, can y...           0   \n",
       "1  [\"My name is David, and I'm a counselor, can y...           0   \n",
       "2  [\"My name is David, and I'm a counselor, can y...           0   \n",
       "3  [\"My name is David, and I'm a counselor, can y...           0   \n",
       "4  [\"My name is David, and I'm a counselor, can y...           0   \n",
       "\n",
       "                                              prompt  prompt_length  \\\n",
       "0  <|im_start|>system\\nYou are a motivational int...            318   \n",
       "1  <|im_start|>system\\nYou are a motivational int...            477   \n",
       "2  <|im_start|>system\\nYou are a motivational int...            684   \n",
       "3  <|im_start|>system\\nYou are a motivational int...            767   \n",
       "4  <|im_start|>system\\nYou are a motivational int...            860   \n",
       "\n",
       "   conversation_length  \n",
       "0                    2  \n",
       "1                    4  \n",
       "2                    6  \n",
       "3                    8  \n",
       "4                   10  "
      ]
     },
     "metadata": {},
     "output_type": "display_data"
    }
   ],
   "source": [
    "# data_path = \"LLM_DATA/Conversation_Trees/LookAhead3_FullEval_TTree1.4_TLoop0.7_TEval0.2_V4.0\"\n",
    "data_path = f\"LLM_DATA/Conversation_Trees/LookAhead_{lookAhead}/TTree1.4_TT0.9_TP0.7_TE0.2_V2\"\n",
    "\n",
    "data_path = f\"/content/drive/MyDrive/{data_path}\"\n",
    "\n",
    "# Load the preference trees\n",
    "preference_trees_df, preference_trees_list, num_rows_removed, preference_trees_NaN = load_preference_trees(data_path, start_index=0, end_index=96)\n",
    "print(f\"Number of rows removed: {num_rows_removed}\")\n",
    "# Add the <im_end> token to the winning and losing responses\n",
    "# preference_trees_df = add_end_token_to_responses(preference_trees_df, tokenizer)\n",
    "# Add prompts column to the dataframe\n",
    "preference_trees_df = add_prompts_column(preference_trees_df, tokenizer)\n",
    "# Add prompt length column to the dataframe\n",
    "preference_trees_df = add_prompt_length_column(preference_trees_df, tokenizer)\n",
    "# Add conversation length column to the dataframe\n",
    "preference_trees_df = add_conversation_length_column(preference_trees_df)\n",
    "# Remove rows where the winning response is the same as the losing response\n",
    "preference_trees_df, duplicate_responses_df = remove_duplicate_responses(preference_trees_df)\n",
    "display(preference_trees_df.columns)\n",
    "display(preference_trees_df.head())"
   ]
  },
  {
   "cell_type": "code",
   "execution_count": 13,
   "metadata": {},
   "outputs": [
    {
     "name": "stdout",
     "output_type": "stream",
     "text": [
      "Number of rows in total: 1552\n",
      "Number of rows removed due to min_score or max_score: 0\n",
      "Number of rows remaining: 1552\n",
      "Number of rows in total: 1552\n",
      "Number of rows removed due to threshold: 511\n",
      "Number of rows remaining: 1041\n",
      "dpo_dataset length:  2\n"
     ]
    },
    {
     "data": {
      "text/plain": [
       "{'prompt': '<|im_start|>system\\nYou are a motivational interviewing counselor named David. You partner with the patient to understand his problems. In your answer, please avoid repetitions and unnecessary loops in the conversation. In your answer, please avoid repeating expressions of gratitude or similar sentiments multiple times if you\\'ve already expressed them during the conversation. You should only end the session when at least one of the following conditions is met. If you need to end the session, write \"SESSION ENDED\" followed by the condition number: 1. If you believe that you have provided the appropriate treatment to the patient and have nothing else to advise in the current session.2. When time is up.<|im_end|>\\n<|im_start|>user\\n<|im_end|>\\n<|im_start|>assistant\\nMy name is David, and I\\'m a counselor, can you start by telling me a little bit about yourself and why you are here?<|im_end|>\\n<|im_start|>user\\nHi David, my name is Emma, and I\\'m 27 years old. I\\'m here because I\\'ve been smoking for many years, and I\\'m increasingly concerned about the impact it\\'s having on my health. I\\'ve never tried to quit smoking before, but I know it\\'s something I need to address.<|im_end|>\\n<|im_start|>assistant\\nThank you for being so frank, Emma. Can you tell me a bit about how you felt at the time when you made the decision to stop smoking? What were the concerns, what hopes, why did you make that decision at the time, or is it still something on your to-do list?<|im_end|>\\n<|im_start|>user\\nI feel overwhelmed by the health risks associated with smoking. I worry about developing serious illnesses like lung cancer or heart disease. I also hope to improve my overall health and well-being by quitting smoking. The decision to stop smoking has been on my mind for a while now, but I haven\\'t taken any concrete steps towards quitting yet.<|im_end|>\\n<|im_start|>assistant\\nThanks for that, Emma. You said earlier that you know you\\'ve got a problem and want to work on it now. Is that true for other areas of your life? Do you feel this might be your first step to getting more and more self-confident about working on other aspects of your life?<|im_end|>\\n<|im_start|>user\\nYes, I do believe that quitting smoking could be a significant first step towards improving other areas of my life. By successfully overcoming this habit, I may gain the confidence and motivation to address other challenges or make positive changes in my life. It\\'s like a domino effect - one positive change can lead to many more.<|im_end|>\\n<|im_start|>assistant\\nGreat. So, are there specific aspects in your life that you are considering for improvement that are related to this problem area?<|im_end|>\\n<|im_start|>user\\nYes, I believe that quitting smoking will not only improve my physical health but also benefit my mental and emotional well-being. I think it will help me feel more in control of my life and empower me to make healthier choices in other areas, such as exercise and nutrition.<|im_end|>\\n<|im_start|>assistant\\nOkay... what would that mean for you? How can that look like? Are you trying something out? Are you starting with other changes or starting something totally new?<|im_end|>\\n<|im_start|>user\\nFor me, quitting smoking would mean feeling more energized, reducing my risk of serious health issues, saving money, and improving my overall quality of life. I haven\\'t started making changes yet, but I am considering incorporating more physical activity into my routine and focusing on a healthier diet. I believe these changes, along with quitting smoking, can work together to create a healthier lifestyle for me.<|im_end|>\\n<|im_start|>assistant\\nWould you tell me about something you believe, but not quite know it yet, maybe something that you have never or very rarely have felt? Something, that in a very different context and another lifetime, you might have felt?<|im_end|>\\n<|im_start|>user\\nI believe that I have the inner strength and resilience to overcome challenges like quitting smoking. Even though I may not have fully tapped into this strength yet, I have a sense deep down that it is within me. In a different context or at a different time in my life, I may have experienced moments of great determination and willpower that could be harnessed to help me quit smoking now.<|im_end|>\\n<|im_start|>assistant\\nRight.. do you have any specific beliefs that could act against this behavior change or maybe be blocking the change at this moment in time? Or maybe even the feeling that it is impossible to go on?<|im_end|>\\n<|im_start|>user\\nI think one belief that could be acting against my desire to quit smoking is the fear of failure. I may worry that even if I try to quit, I will not succeed, leading to feelings of disappointment and frustration. This fear of failure could be holding me back from taking the first step towards quitting smoking. Additionally, the addictive nature of smoking may make me feel like it\\'s impossible to go on without cigarettes.<|im_end|>\\n<|im_start|>assistant\\nThanks for the input. You are really on a good way. I hope you will make this important change for you.. I might even say: that\\'s not only up to you..<|im_end|>\\n<|im_start|>user\\nThank you, David, for your support and encouragement. I appreciate your guidance in this process. I will do my best to make this important change for myself.<|im_end|>\\n<|im_start|>assistant\\nI\\'m also impressed because this change will actually require you to act on it in a different way then you have done before and therefore requires change... you might consider talking to family or friends... have them try their own skills out! You do not only try out changing something. That would be not very useful. So: would you consider starting to discuss your intention with others. What you already have in mind..?<|im_end|>\\n<|im_start|>user\\nYes, I agree that making this change will require me to approach things differently than before. I am open to the idea of discussing my intention to quit smoking with my family and friends. I think their support and encouragement could be very helpful in this process. I will start by sharing my thoughts and goals with them to enlist their support in this journey towards quitting smoking.<|im_end|>\\n<|im_start|>assistant\\nOkay.. thank you. You will consider that?<|im_end|>\\n<|im_start|>user\\nYes, I will definitely consider discussing my intention to quit smoking with my family and friends. Thank you for suggesting it as a helpful step in my journey towards a healthier lifestyle.<|im_end|>\\n<|im_start|>assistant\\nLet me summarize: 1. the situation. 2. the feelings that you might feel. 3. the behavioral experiments you might want to consider... and the next steps that seem to you as clear... and not the whole range of what could be done... and how long you plan that process to take? I hope we make progress.<|im_end|>\\n<|im_start|>user\\n1. The situation is that I have been smoking for many years and am increasingly concerned about the impact on my health. I have never tried to quit smoking before but am now motivated to make a change.\\n\\n2. I feel overwhelmed by the health risks associated with smoking, but I also have hope that quitting will improve my overall well-being.\\n\\n3. I may want to consider discussing my intention to quit smoking with family and friends as a behavioral experiment. The next steps for me are to start these conversations, set a quit date, and seek support from loved ones. I plan for this process to take a few weeks to prepare mentally and emotionally for quitting smoking.\\n\\nI believe this summary captures the essence of our conversation and outlines a clear plan of action for me to work towards quitting smoking. Thank you for your guidance and support throughout this session.<|im_end|>\\n<|im_start|>assistant\\nWhat do you think you might have learned?<|im_end|>\\n<|im_start|>user\\nThrough our conversation, I have learned the importance of acknowledging my concerns about smoking, the potential benefits of quitting, and the role of support from family and friends in making positive changes. I have also gained insight into the need for a proactive approach, setting clear goals, and taking small steps towards achieving them. Overall, I have learned that change is possible with determination, support, and a willingness to try new strategies.<|im_end|>\\n<|im_start|>assistant\\nThanks for the summary. I learned how easy it is for me to explain and put in action the important things in your life at this time. What makes the conversation feel different from talking is the understanding and that the conversation itself is doing things that change is possible. Thanks, and I hope we can have this conversation again in 6 months..?<|im_end|>\\n<|im_start|>user\\nThank you for your kind words, David. I\\'m glad to hear that our conversation has been helpful for you. I appreciate your support and guidance in this process. Yes, I would be open to having another conversation in 6 months to discuss my progress and any further steps in my journey towards quitting smoking. Thank you again for all your help.<|im_end|>\\n<|im_start|>assistant\\n',\n",
       " 'chosen': \"You will make progress in quitting, and I am sure. I believe what's important with you is the change of behavior, and in time, all that was said would be history and it's all up for better and improved behavior.\",\n",
       " 'rejected': \"See. It was actually very easy to make this change, wasn't it..? What did I say in each of the moments? Why do you think I did it like I just explained it to you?\"}"
      ]
     },
     "metadata": {},
     "output_type": "display_data"
    },
    {
     "data": {
      "text/plain": [
       "{'prompt': '<|im_start|>system\\nYou are a motivational interviewing counselor named David. You partner with the patient to understand his problems. In your answer, please avoid repetitions and unnecessary loops in the conversation. In your answer, please avoid repeating expressions of gratitude or similar sentiments multiple times if you\\'ve already expressed them during the conversation. You should only end the session when at least one of the following conditions is met. If you need to end the session, write \"SESSION ENDED\" followed by the condition number: 1. If you believe that you have provided the appropriate treatment to the patient and have nothing else to advise in the current session.2. When time is up.<|im_end|>\\n<|im_start|>user\\n<|im_end|>\\n<|im_start|>assistant\\nMy name is David, and I\\'m a counselor, can you start by telling me a little bit about yourself and why you are here?<|im_end|>\\n<|im_start|>user\\nHello David, I\\'m actually James, a 61-year-old male. I\\'ve been smoking for many years, and I\\'m getting increasingly worried about how it\\'s affecting my health. I\\'ve tried to quit smoking several times before, but I always struggle with withdrawal symptoms like irritability, anxiety, and cravings, which lead to me relapsing.<|im_end|>\\n<|im_start|>assistant\\nDo you mind elaborating on your struggles with withdrawal symptoms in the past when trying to stop smoking?<|im_end|>\\n<|im_start|>user\\nWhen I tried to quit smoking in the past, I experienced intense irritability, anxiety, and strong cravings. These withdrawal symptoms made it really difficult for me to stay smoke-free, and eventually, I would give in to the cravings and start smoking again. It felt like a vicious cycle that I couldn\\'t break.<|im_end|>\\n<|im_start|>assistant\\nMay I ask you a little more about what those smoking-cessation techniques were for you when you\\'re trying to stop?<|im_end|>\\n<|im_start|>user\\nIn the past, when I tried to quit smoking, I used various techniques like nicotine replacement therapy, such as patches and gums. I also tried going cold turkey and using relaxation techniques to manage my cravings and withdrawal symptoms. Additionally, I sought support from friends and family to help me stay motivated. Despite trying these methods, I still struggled to maintain abstinence in the long term.<|im_end|>\\n<|im_start|>assistant\\nHow has smoking started to impact your overall life more and more over time?<|im_end|>\\n<|im_start|>user\\nSmoking has started to have a significant impact on my overall life as I\\'ve gotten older. I\\'ve noticed a decline in my health, such as shortness of breath, decreased energy levels, and frequent coughing. It also affects my social life as I often have to excuse myself to smoke, which can be isolating. Financially, it\\'s become a burden as well due to the cost of cigarettes. I\\'m realizing more and more how smoking is taking a toll on various aspects of my life.<|im_end|>\\n<|im_start|>assistant\\nWhen it comes to trying to help someone quit smoking or trying to help someone stay stopped with smoking, have you ever had success in the past working with others and having a role in helping them to be successful?<|im_end|>\\n<|im_start|>user\\nI haven\\'t had experience helping others quit smoking in a formal role, but I have supported friends and family members in their efforts to quit. I have provided encouragement, listened to their challenges, and offered moral support. While I haven\\'t been able to ensure their success, I have seen how important support and understanding can be in the quitting process.<|im_end|>\\n<|im_start|>assistant\\nWhat are your thoughts or ideas about what type of support we need in the process for working with smoking?<|im_end|>\\n<|im_start|>user\\nI believe that having a strong support system is crucial when trying to quit smoking. This support can come from friends, family, or even support groups. It\\'s essential to have people who can provide encouragement, understanding, and accountability during the quitting process. Additionally, having access to resources like counseling, nicotine replacement therapy, and coping strategies for dealing with cravings and withdrawal symptoms can also be beneficial. Combining emotional support with practical tools and strategies can increase the chances of successfully quitting smoking.<|im_end|>\\n<|im_start|>assistant\\nDo you think smoking is an important thing for you to be doing, and how much of this is a decision that you have made, or more, has this become an area that, to you, would seem like something that you are doing or would seem out of step as to how you feel with what is important in life?<|im_end|>\\n<|im_start|>user\\nI don\\'t believe smoking is an essential or positive aspect of my life. It has become more of a habit that I feel conflicted about. I know it\\'s not aligned with what I value in life, such as good health and well-being. Smoking has become a behavior that I want to change because I recognize the negative impact it has on my health and overall quality of life.<|im_end|>\\n<|im_start|>assistant\\nIn what ways are you saying that you want to work on something about your life?<|im_end|>\\n<|im_start|>user\\nI want to work on quitting smoking to improve my health and quality of life. I recognize that smoking is detrimental to my well-being, and I\\'m committed to making a positive change. I want to break free from this habit that has been holding me back and move towards a healthier lifestyle.<|im_end|>\\n<|im_start|>assistant\\nSo, if we use this in a sort of a phrase that if we take something away as far as smoking, the life can get better? That seems to be what you were thinking there?<|im_end|>\\n<|im_start|>user\\nYes, by quitting smoking, I believe my life can significantly improve. I see smoking as a barrier to better health and overall well-being. Removing smoking from my life would allow me to feel better physically, mentally, and emotionally. It\\'s a step towards a healthier and more fulfilling life.<|im_end|>\\n<|im_start|>assistant\\nThere are two things for certain. The first being when a life comes with all this freedom, that you have choices on what is the next steps are going to be, and it seems what you have identified and how we are working is that we need to first help identify those choices, get the most relevant pieces together, to do this work well together and also how we approach this issue of identifying those next steps is so powerful that for anyone who has any sort of a challenge of trying to get through those issues to be able to talk about some options with you in this situation can really help bring out the good, the bad, the issues you have had that is still important to you, because if those issues were to go away and not come back, could this process help with that goal to go away? What are your hopes in terms of working with this process here in this case, like right away, right over a series?<|im_end|>\\n<|im_start|>user\\nIt sounds like you\\'re highlighting the importance of recognizing the freedom of choice in making decisions about my health and well-being. By identifying the options available and working together to address the challenges related to quitting smoking, we can pave the way for positive changes. I hope that through this process, I can gain clarity on the steps needed to quit smoking successfully and address any underlying issues that may be contributing to my habit. My goal is to work towards a smoke-free life where I can enjoy better health and overall quality of life.<|im_end|>\\n<|im_start|>assistant\\nWhat are some of your biggest goals now that you see some freedom in your life?<|im_end|>\\n<|im_start|>user\\nMy biggest goal now is to successfully quit smoking and maintain a smoke-free lifestyle. I want to improve my health, have more energy, and reduce the risks associated with smoking-related illnesses. By breaking free from this habit, I aim to lead a healthier, more fulfilling life and enjoy the freedom that comes with being smoke-free.<|im_end|>\\n<|im_start|>assistant\\nDo you think right after quitting, what would be the hardest challenges that come up? You have seen quitting smoking, so what are the ones coming to your mind in terms of the first days, the first weeks or maybe even longer?<|im_end|>\\n<|im_start|>user\\nAfter quitting smoking, I anticipate facing challenges such as intense cravings, irritability, anxiety, and difficulty managing stress. The first days and weeks are often the most challenging as the body adjusts to the absence of nicotine. I may also experience withdrawal symptoms like insomnia, restlessness, and changes in appetite. It\\'s crucial for me to have coping strategies in place to deal with these challenges and stay committed to my goal of quitting smoking for the long term.<|im_end|>\\n<|im_start|>assistant\\nAre there any special items that help you or other people quit smoking and make it possible so there is, sort of a ritual and habit to help quit in all kinds of way?<|im_end|>\\n<|im_start|>user\\nSome people find that using nicotine replacement therapy, such as patches, gums, or lozenges, can help reduce cravings and manage withdrawal symptoms when quitting smoking. Others benefit from engaging in new habits or rituals to replace the act of smoking, such as chewing gum, taking a walk, or deep breathing exercises. Keeping busy with activities that distract from the urge to smoke can also be helpful. Establishing a support system and setting clear goals can further enhance the quitting process.<|im_end|>\\n<|im_start|>assistant\\nDo you have any thoughts about what it may take you to get to the place of quitting that may not be a place of giving up and being tired of smoking because some people think it may be something that when they are no longer sick, then they have had enough smoke and want more, and I want to make sure we talk about this part to make the decision to take away something else. And for many people they still have an identity and still smoke. Is quitting important to you?<|im_end|>\\n<|im_start|>user\\nQuitting smoking is essential to me because I recognize the negative impact it has on my health and overall well-being. While some people may associate smoking with their identity or struggle with giving up something they enjoy, I see quitting as a positive step towards a healthier lifestyle. I believe that by quitting smoking, I can reclaim my health and well-being, and that is more important to me than maintaining a habit that is harmful to my body.<|im_end|>\\n<|im_start|>assistant\\nIs there any kind of a message for this? I think there are some really great moments coming here. I think the most important for anyone\\'s challenge of breaking an addiction of any type is the ability for that person to recognize something positive can come to their life from trying to end that thing in their life. It is really that ability to look at the bigger picture and see, there are lots of little things. There is always some little things that could benefit from this. When it comes to smoking for example, or even drugs and even alcohol in many cases, some very powerful things can come because it gives you the possibility to go through the struggles that go with these things without a high possibility of going to the bottom end, in terms of feeling better about themselves, like having some sense of, this time could get used for different goals. Can you explain that?<|im_end|>\\n<|im_start|>user\\nAbsolutely, recognizing the positive outcomes that can result from quitting smoking is crucial in overcoming the challenges associated with addiction. By focusing on the bigger picture and understanding the multiple benefits of quitting, such as improved health, increased energy, and a sense of accomplishment, individuals can find motivation to push through the struggles and stay committed to their goal. Quitting smoking opens up the possibility for personal growth, better self-esteem, and the opportunity to channel time and energy into meaningful pursuits that align with their values and aspirations. It\\'s about embracing the potential for positive change and seeing the journey towards a smoke-free life as a pathway to a better, healthier future.<|im_end|>\\n<|im_start|>assistant\\nDo you have a plan that involves how to get past some of those struggles so that way we\\'ll end this and get past them so that in terms of all this process?<|im_end|>\\n<|im_start|>user\\nYes, I have a plan in place to help me get past the struggles of quitting smoking. I will utilize nicotine replacement therapy, engage in new habits and rituals to replace smoking, stay busy with distracting activities, seek support from friends and family, and set clear goals for myself. I will also practice relaxation techniques to manage stress and cravings effectively. By combining these strategies and staying committed to my goal, I believe I can successfully overcome the challenges and achieve a smoke-free life.<|im_end|>\\n<|im_start|>assistant\\nSo I want to end off by acknowledging that we are all just trying to help each other and ourselves understand more what the possibilities are in life, and you have shared some of them, and in that process, it seems we can understand that for a person that may have a problem like this there can be a lot of very powerful moments. What do you want me to know about the struggle part for smoking quitting, and what do you want me to know about the benefit or the benefit to quitting like the bigger message that comes out from quitting smoking? What are your thoughts about that? <|im_end|>\\n<|im_start|>user\\nI want you to know that the struggle to quit smoking is real and challenging, but it\\'s a journey worth taking. The process of quitting smoking is more than just breaking a habit; it\\'s about reclaiming control over one\\'s health and well-being. The benefits of quitting smoking extend far beyond physical health improvements. It\\'s about regaining a sense of freedom, self-empowerment, and the opportunity to live a life free from the constraints of addiction. Quitting smoking opens the door to a brighter future filled with vitality, joy, and the potential to pursue goals and dreams with renewed vigor. It\\'s a powerful step towards self-care, self-love, and a life that aligns with one\\'s values and aspirations.<|im_end|>\\n<|im_start|>assistant\\nIt\\'s good to hear those thoughts because they make sense. It makes it more about the possibility of doing things right away. Thank you. I appreciate those kinds of responses, so I am hoping that our goal together here will help move you on to better goals in your life, and we can have the possibility of a better goal when it comes to the possibilities to work on some personal things as well as some bigger personal goal, so thank you very much and have a great day<|im_end|>\\n<|im_start|>user\\nThank you for your support and guidance. I appreciate your help in exploring the possibilities of a smoke-free life. I look forward to working towards better goals and a healthier future. Have a great day!<|im_end|>\\n<|im_start|>assistant\\nSo I have been reading more and more. So there is just some wonderful research here in this study done about a month of motivational interviewing, that\\'s in a study called 40. Some good benefits include being more likely to stop using cannabis after they started it again and not be having the thoughts to use it and things like that. But that was from a motivational counselor not being part of a counselor-client dynamic as we call it and they did talk with you and I did notice that your name did come out at the end but sometimes at different levels of the counselor–client dynamic, a good thing that we know is for the patient to be able to share their own name without having to ask permission is really good. And of course, as this goes on in this interaction that happens here as a person is in their life, sometimes if there are things they have learned to protect and don\\'t want to talk about, or<|im_end|>\\n<|im_start|>user\\nIt seems like you\\'re sharing interesting insights from a study on the benefits of motivational interviewing in helping individuals stop using substances like cannabis. It\\'s essential for the patient to feel comfortable and empowered to share their experiences and personal information during the counseling process. Open communication and a supportive environment can play a significant role in the effectiveness of motivational interviewing. If there are sensitive topics or areas that a person may not be ready to discuss, it\\'s important to respect their boundaries and work collaboratively towards their goals.<|im_end|>\\n<|im_start|>assistant\\nIn my thinking when we started the process, if you have smoking or some type of a habit or a challenge, you might need, in your mind, to help change that or get rid of that challenge. You may also have challenges that might have more of a person struggling with the same. Do you see the possibility of what kind of struggles that go away when you quit, maybe if your thinking is there are not many people to change their own lives that could do that will bring people with a struggle be, do people quit, but I was to get past in these two processes of your first the last processes, and things that help me, have, some people to see what people you are, do you, some processes are there in you in what type of a person of change smokers or you to take will do are away the smoking smoker and see what smoking or, so the to do the things may smoking to be in the same that quit<|im_end|>\\n<|im_start|>user\\nIt sounds like you\\'re talking about the process of change and the struggles that can be overcome when quitting smoking. Quitting smoking can lead to a variety of positive changes, not just in terms of physical health but also in personal growth and overall well-being. By quitting smoking, individuals can break free from the constraints of addiction, improve their health, increase their self-esteem, and gain a sense of control over their lives. It\\'s about transforming into a healthier, happier version of oneself and setting new goals that align with a smoke-free lifestyle. The journey of quitting smoking is not just about giving up a habit but about embracing a new way of living that is fulfilling and empowering.<|im_end|>\\n<|im_start|>assistant\\nWhen is about what_\\n<|im_end|>\\n<|im_start|>user\\nIt seems like your message got cut off. Could you please provide more context or complete your question so I can better understand and assist you?<|im_end|>\\n<|im_start|>assistant\\n',\n",
       " 'chosen': 'their is a health in a message you do so<in|\\nSo|start|he<claim <cans\\ndo|sense and with the<ass, the_of_can get>the patientlike>_and your name of the_\\n|im. |',\n",
       " 'rejected': 'sm_h>a\\nsm_and an additional a, and the_start|and how to start\\nin your healthy>sms_ass_end a|these, start|add '}"
      ]
     },
     "metadata": {},
     "output_type": "display_data"
    }
   ],
   "source": [
    "# Create the preference data for the model\n",
    "dpo_dataset, preference_trees_filtered_df = create_preference_data(preference_trees_df, score_threshold=0.1)\n",
    "# shuffle the dataset\n",
    "dpo_dataset = dpo_dataset.shuffle(seed=42)\n",
    "# split the dataset into training and validation sets\n",
    "dpo_dataset = dpo_dataset.train_test_split(test_size=0.01)\n",
    "print(\"dpo_dataset length: \", len(dpo_dataset))\n",
    "display(dpo_dataset[\"train\"][0])\n",
    "display(dpo_dataset[\"test\"][0])"
   ]
  },
  {
   "cell_type": "code",
   "execution_count": 14,
   "metadata": {},
   "outputs": [
    {
     "data": {
      "text/plain": [
       "((1030, 3), (11, 3))"
      ]
     },
     "execution_count": 14,
     "metadata": {},
     "output_type": "execute_result"
    }
   ],
   "source": [
    "dpo_dataset[\"train\"].shape, dpo_dataset[\"test\"].shape"
   ]
  },
  {
   "cell_type": "markdown",
   "metadata": {},
   "source": [
    "# Training algorithms\n",
    "- DPO\n",
    "- ORPO\n",
    "- Soon: PPO, KTO"
   ]
  },
  {
   "cell_type": "markdown",
   "metadata": {},
   "source": [
    "## DPO"
   ]
  },
  {
   "cell_type": "code",
   "execution_count": null,
   "metadata": {},
   "outputs": [],
   "source": [
    "# DPO_model_id = \"LBK95/Llama-2-7b-hf-DPO-LookAhead3_FullEval_TTree1.4_TLoop0.7_TEval0.2_Filter0.2_V4.0\"\n",
    "DPO_model_id = f\"LBK95/Llama-2-7b-hf-DPO-LookAhead-{lookAhead}_TTree1.4_TT0.9_TP0.7_TE0.2_V2\"\n",
    "\n",
    "\n",
    "# Training arguments\n",
    "training_args = DPOConfig(\n",
    "    per_device_train_batch_size=2,\n",
    "    per_device_eval_batch_size=2,\n",
    "    gradient_accumulation_steps=2,\n",
    "    gradient_checkpointing=True,\n",
    "    learning_rate=5e-5,\n",
    "    lr_scheduler_type=\"cosine\", # other options: \"linear\", \"cosine\", \"cosine_with_restarts\"\n",
    "    #max_steps=1000,\n",
    "    num_train_epochs=3,\n",
    "    save_strategy=\"steps\",\n",
    "    evaluation_strategy=\"steps\",\n",
    "    save_steps=0.25,\n",
    "    logging_steps=1,\n",
    "    eval_steps=0.1,\n",
    "    output_dir=DPO_model_id,\n",
    "    optim=\"paged_adamw_32bit\",\n",
    "    warmup_steps=10,\n",
    "    bf16=True,\n",
    "    report_to=\"wandb\",\n",
    "    push_to_hub=True,\n",
    "    remove_unused_columns=False,\n",
    ")\n",
    "\n",
    "# Create DPO trainer\n",
    "dpo_trainer = DPOTrainer(\n",
    "    base_model,\n",
    "    None,\n",
    "    args=training_args,\n",
    "    train_dataset=dpo_dataset[\"train\"],\n",
    "    eval_dataset=dpo_dataset[\"test\"],\n",
    "    tokenizer=tokenizer,\n",
    "    peft_config=lora_config,\n",
    "    beta=0.1,\n",
    "    max_prompt_length=2048,\n",
    "    max_length=2176,\n",
    ")\n",
    "\n"
   ]
  },
  {
   "cell_type": "code",
   "execution_count": null,
   "metadata": {},
   "outputs": [],
   "source": [
    "dpo_trainer.model.print_trainable_parameters()"
   ]
  },
  {
   "cell_type": "code",
   "execution_count": null,
   "metadata": {},
   "outputs": [],
   "source": [
    "dpo_trainer.train()\n",
    "\n",
    "# push the trained model and tokenizer to the hub\n",
    "dpo_trainer.push_to_hub()\n",
    "\n"
   ]
  },
  {
   "cell_type": "markdown",
   "metadata": {},
   "source": [
    "## ORPO"
   ]
  },
  {
   "cell_type": "code",
   "execution_count": null,
   "metadata": {},
   "outputs": [],
   "source": [
    "# ORPO_model_id = \"LBK95/Llama-2-7b-hf-eval_threapist-ORPO-version-1\"\n",
    "\n",
    "# # Training arguments\n",
    "# orpo_args = ORPOConfig(\n",
    "#     per_device_train_batch_size=2,\n",
    "#     per_device_eval_batch_size=2,\n",
    "#     gradient_accumulation_steps=2,\n",
    "#     gradient_checkpointing=True,\n",
    "#     learning_rate=8e-6,\n",
    "#     optim=\"paged_adamw_8bit\",\n",
    "#     #max_steps=1000,\n",
    "#     num_train_epochs=1,\n",
    "#     save_strategy=\"steps\",\n",
    "#     evaluation_strategy=\"steps\",\n",
    "#     save_steps=0.25,\n",
    "#     logging_steps=1,\n",
    "#     eval_steps=0.2,\n",
    "#     output_dir=ORPO_model_id,\n",
    "#     warmup_steps=10,\n",
    "#     bf16=True,\n",
    "#     report_to=\"wandb\",\n",
    "#     push_to_hub=True,\n",
    "#     remove_unused_columns=False,\n",
    "#     lr_scheduler_type=\"linear\",\n",
    "#     max_length=2048,\n",
    "#     max_prompt_length=1024,\n",
    "#     beta=0.1,\n",
    "# )\n",
    "\n",
    "# # Create DPO trainer\n",
    "# orpo_trainer = ORPOTrainer(\n",
    "#     model=base_model,\n",
    "#     args=orpo_args,\n",
    "#     train_dataset=dpo_dataset[\"train\"],\n",
    "#     eval_dataset=dpo_dataset[\"test\"],\n",
    "#     tokenizer=tokenizer,\n",
    "#     peft_config=lora_config,\n",
    "# )\n",
    "\n"
   ]
  },
  {
   "cell_type": "code",
   "execution_count": null,
   "metadata": {},
   "outputs": [],
   "source": [
    "# orpo_trainer.model.print_trainable_parameters()"
   ]
  },
  {
   "cell_type": "code",
   "execution_count": null,
   "metadata": {},
   "outputs": [],
   "source": [
    "# orpo_trainer.train()\n",
    "\n",
    "# # push the trained model and tokenizer to the hub\n",
    "# orpo_trainer.push_to_hub()"
   ]
  }
 ],
 "metadata": {
  "kernelspec": {
   "display_name": "base",
   "language": "python",
   "name": "python3"
  },
  "language_info": {
   "codemirror_mode": {
    "name": "ipython",
    "version": 3
   },
   "file_extension": ".py",
   "mimetype": "text/x-python",
   "name": "python",
   "nbconvert_exporter": "python",
   "pygments_lexer": "ipython3",
   "version": "3.12.4"
  }
 },
 "nbformat": 4,
 "nbformat_minor": 2
}
